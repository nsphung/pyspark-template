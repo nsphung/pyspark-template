{
 "cells": [
  {
   "cell_type": "code",
   "execution_count": 1,
   "metadata": {},
   "outputs": [
    {
     "name": "stderr",
     "output_type": "stream",
     "text": [
      "24/09/16 11:37:38 WARN Utils: Your hostname, nsphung-ia resolves to a loopback address: 127.0.1.1; using 10.163.133.235 instead (on interface enx64c901a5e8d3)\n",
      "24/09/16 11:37:38 WARN Utils: Set SPARK_LOCAL_IP if you need to bind to another address\n",
      "Setting default log level to \"WARN\".\n",
      "To adjust logging level use sc.setLogLevel(newLevel). For SparkR, use setLogLevel(newLevel).\n",
      "24/09/16 11:37:38 WARN NativeCodeLoader: Unable to load native-hadoop library for your platform... using builtin-java classes where applicable\n"
     ]
    },
    {
     "name": "stdout",
     "output_type": "stream",
     "text": [
      "Spark session is now available\n"
     ]
    }
   ],
   "source": [
    "import findspark\n",
    "import os\n",
    "from pyspark.sql import SparkSession, DataFrame\n",
    "import pyspark.sql.functions as f\n",
    "\n",
    "# os.environ[\"SPARK_HOME\"] = \"/home/my_home/spark-3.5.2-bin-hadoop3\"\n",
    "os.environ[\"PYSPARK_SUBMIT_ARGS\"] = \"--master local[*] pyspark-shell\"\n",
    "\n",
    "findspark.init()\n",
    "\n",
    "spark = (\n",
    "    SparkSession.builder.master(\"local[*]\")\n",
    "    .config(\"spark.driver.memory\", \"2G\")\n",
    "    .config(\"spark.sql.shuffle.partitions\", \"4\")\n",
    "    .config(\"spark.sql.execution.arrow.pyspark.enabled\", \"true\")\n",
    "    .config(\"spark.sql.execution.arrow.pyspark.fallback.enabled\", \"true\")\n",
    "    .config(\"spark.sql.repl.eagerEval.enabled\", \"true\")\n",
    "    .getOrCreate()\n",
    ")\n",
    "\n",
    "print(\"Spark session is now available\")"
   ]
  },
  {
   "cell_type": "code",
   "execution_count": 2,
   "metadata": {},
   "outputs": [
    {
     "data": {
      "text/html": [
       "<table border='1'>\n",
       "<tr><th>atccode</th><th>clinical_trials</th><th>drug</th><th>journals</th><th>pubmeds</th></tr>\n",
       "<tr><td>A01AD</td><td>[{27 April 2020, ...</td><td>EPINEPHRINE</td><td>[{01/02/2020, The...</td><td>[{01/03/2020, 8, ...</td></tr>\n",
       "<tr><td>S03AA</td><td>[{NULL, NULL, NUL...</td><td>TETRACYCLINE</td><td>[{01/01/2020, Jou...</td><td>[{2020-01-01, 6, ...</td></tr>\n",
       "<tr><td>V03AB</td><td>[{NULL, NULL, NUL...</td><td>ETHANOL</td><td>[{2020-01-01, Psy...</td><td>[{2020-01-01, 6, ...</td></tr>\n",
       "<tr><td>A04AD</td><td>[{1 January 2020,...</td><td>DIPHENHYDRAMINE</td><td>[{01/01/2019, Jou...</td><td>[{02/01/2019, 3, ...</td></tr>\n",
       "<tr><td>6302001</td><td>[{NULL, NULL, NUL...</td><td>ISOPRENALINE</td><td>[{NULL, NULL}]</td><td>[{NULL, NULL, NUL...</td></tr>\n",
       "<tr><td>A03BA</td><td>[{NULL, NULL, NUL...</td><td>ATROPINE</td><td>[{NULL, NULL}]</td><td>[{NULL, NULL, NUL...</td></tr>\n",
       "<tr><td>R01AD</td><td>[{1 January 2020,...</td><td>BETAMETHASONE</td><td>[{NULL, NULL}, {1...</td><td>[{NULL, NULL, NUL...</td></tr>\n",
       "<tr><td>HELLO</td><td>[{NULL, NULL, NUL...</td><td>CORONA</td><td>[{NULL, NULL}]</td><td>[{NULL, NULL, NUL...</td></tr>\n",
       "</table>\n"
      ],
      "text/plain": [
       "+-------+--------------------+---------------+--------------------+--------------------+\n",
       "|atccode|     clinical_trials|           drug|            journals|             pubmeds|\n",
       "+-------+--------------------+---------------+--------------------+--------------------+\n",
       "|  A01AD|[{27 April 2020, ...|    EPINEPHRINE|[{01/02/2020, The...|[{01/03/2020, 8, ...|\n",
       "|  S03AA|[{NULL, NULL, NUL...|   TETRACYCLINE|[{01/01/2020, Jou...|[{2020-01-01, 6, ...|\n",
       "|  V03AB|[{NULL, NULL, NUL...|        ETHANOL|[{2020-01-01, Psy...|[{2020-01-01, 6, ...|\n",
       "|  A04AD|[{1 January 2020,...|DIPHENHYDRAMINE|[{01/01/2019, Jou...|[{02/01/2019, 3, ...|\n",
       "|6302001|[{NULL, NULL, NUL...|   ISOPRENALINE|      [{NULL, NULL}]|[{NULL, NULL, NUL...|\n",
       "|  A03BA|[{NULL, NULL, NUL...|       ATROPINE|      [{NULL, NULL}]|[{NULL, NULL, NUL...|\n",
       "|  R01AD|[{1 January 2020,...|  BETAMETHASONE|[{NULL, NULL}, {1...|[{NULL, NULL, NUL...|\n",
       "|  HELLO|[{NULL, NULL, NUL...|         CORONA|      [{NULL, NULL}]|[{NULL, NULL, NUL...|\n",
       "+-------+--------------------+---------------+--------------------+--------------------+"
      ]
     },
     "execution_count": 2,
     "metadata": {},
     "output_type": "execute_result"
    }
   ],
   "source": [
    "# Find from data/output/result.json the journal that mention drugs the most\n",
    "journals: DataFrame = spark.read.option(\"multiline\", \"true\").json(\n",
    "    \"../data/output/result.json\"\n",
    ")\n",
    "journals"
   ]
  },
  {
   "cell_type": "code",
   "execution_count": 3,
   "metadata": {},
   "outputs": [
    {
     "name": "stdout",
     "output_type": "stream",
     "text": [
      "+-------+---------------+-----------------------------------------------------------+\n",
      "|atccode|drug           |journal                                                    |\n",
      "+-------+---------------+-----------------------------------------------------------+\n",
      "|A01AD  |EPINEPHRINE    |The journal of allergy and clinical immunology. In practice|\n",
      "|A01AD  |EPINEPHRINE    |The journal of allergy and clinical immunology. In practice|\n",
      "|A01AD  |EPINEPHRINE    |Journal of emergency nursing                               |\n",
      "|A01AD  |EPINEPHRINE    |Journal of emergency nursing\\xc3\\x28                       |\n",
      "|S03AA  |TETRACYCLINE   |Journal of food protection                                 |\n",
      "|S03AA  |TETRACYCLINE   |Psychopharmacology                                         |\n",
      "|S03AA  |TETRACYCLINE   |American journal of veterinary research                    |\n",
      "|V03AB  |ETHANOL        |Psychopharmacology                                         |\n",
      "|A04AD  |DIPHENHYDRAMINE|Journal of emergency nursing                               |\n",
      "|A04AD  |DIPHENHYDRAMINE|The Journal of pediatrics                                  |\n",
      "|A04AD  |DIPHENHYDRAMINE|Journal of emergency nursing                               |\n",
      "|R01AD  |BETAMETHASONE  |Hôpitaux Universitaires de Genève                          |\n",
      "+-------+---------------+-----------------------------------------------------------+\n",
      "\n"
     ]
    }
   ],
   "source": [
    "journals.select(\n",
    "    \"atccode\", \"drug\", f.explode(\"journals.journal\").alias(\"journal\")\n",
    ").where(f.col(\"journal\").isNotNull()).show(30, False)"
   ]
  },
  {
   "cell_type": "code",
   "execution_count": 4,
   "metadata": {},
   "outputs": [
    {
     "name": "stdout",
     "output_type": "stream",
     "text": [
      "+-----------------------------------------------------------+-------------+\n",
      "|journal                                                    |numberOfDrugs|\n",
      "+-----------------------------------------------------------+-------------+\n",
      "|Journal of emergency nursing                               |3            |\n",
      "|The journal of allergy and clinical immunology. In practice|2            |\n",
      "|Psychopharmacology                                         |2            |\n",
      "|Journal of food protection                                 |1            |\n",
      "|Hôpitaux Universitaires de Genève                          |1            |\n",
      "|Journal of emergency nursing\\xc3\\x28                       |1            |\n",
      "|The Journal of pediatrics                                  |1            |\n",
      "|American journal of veterinary research                    |1            |\n",
      "+-----------------------------------------------------------+-------------+\n",
      "\n"
     ]
    }
   ],
   "source": [
    "journals.select(\n",
    "    \"atccode\", \"drug\", f.explode(\"journals.journal\").alias(\"journal\")\n",
    ").where(f.col(\"journal\").isNotNull()).groupBy(\"journal\").agg(\n",
    "    f.count(\"atccode\").alias(\"numberOfDrugs\")\n",
    ").sort(\n",
    "    f.col(\"numberOfDrugs\").desc()\n",
    ").show(\n",
    "    20, False\n",
    ")"
   ]
  },
  {
   "cell_type": "code",
   "execution_count": 5,
   "metadata": {},
   "outputs": [
    {
     "name": "stdout",
     "output_type": "stream",
     "text": [
      "+-------+---------------+-----------------------------------------------------------+\n",
      "|atccode|drug           |journal                                                    |\n",
      "+-------+---------------+-----------------------------------------------------------+\n",
      "|R01AD  |BETAMETHASONE  |Hôpitaux Universitaires de Genève                          |\n",
      "|A04AD  |DIPHENHYDRAMINE|Journal of emergency nursing                               |\n",
      "|A04AD  |DIPHENHYDRAMINE|The Journal of pediatrics                                  |\n",
      "|A04AD  |DIPHENHYDRAMINE|Journal of emergency nursing                               |\n",
      "|A01AD  |EPINEPHRINE    |The journal of allergy and clinical immunology. In practice|\n",
      "|A01AD  |EPINEPHRINE    |The journal of allergy and clinical immunology. In practice|\n",
      "|A01AD  |EPINEPHRINE    |Journal of emergency nursing                               |\n",
      "|A01AD  |EPINEPHRINE    |Journal of emergency nursing\\xc3\\x28                       |\n",
      "|V03AB  |ETHANOL        |Psychopharmacology                                         |\n",
      "|S03AA  |TETRACYCLINE   |Journal of food protection                                 |\n",
      "|S03AA  |TETRACYCLINE   |Psychopharmacology                                         |\n",
      "|S03AA  |TETRACYCLINE   |American journal of veterinary research                    |\n",
      "+-------+---------------+-----------------------------------------------------------+\n",
      "\n"
     ]
    }
   ],
   "source": [
    "journals.select(\n",
    "    \"atccode\", \"drug\", f.explode(\"journals.journal\").alias(\"journal\")\n",
    ").where(f.col(\"journal\").isNotNull()).sort(\"drug\").show(60, False)"
   ]
  }
 ],
 "metadata": {
  "kernelspec": {
   "display_name": "pyspark-template-B7t9Khjl-py3.10",
   "language": "python",
   "name": "python3"
  },
  "language_info": {
   "codemirror_mode": {
    "name": "ipython",
    "version": 3
   },
   "file_extension": ".py",
   "mimetype": "text/x-python",
   "name": "python",
   "nbconvert_exporter": "python",
   "pygments_lexer": "ipython3",
   "version": "3.10.13"
  },
  "orig_nbformat": 4,
  "vscode": {
   "interpreter": {
    "hash": "a7f1ec1cc37481a0a45097fa84f833a22ef4b8d1bc77905cc4caa954c435a86c"
   }
  }
 },
 "nbformat": 4,
 "nbformat_minor": 2
}
