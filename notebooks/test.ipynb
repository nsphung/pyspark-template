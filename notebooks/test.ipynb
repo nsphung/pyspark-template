{
 "cells": [
  {
   "cell_type": "code",
   "execution_count": 1,
   "metadata": {},
   "outputs": [
    {
     "name": "stderr",
     "output_type": "stream",
     "text": [
      "your 131072x1 screen size is bogus. expect trouble\n"
     ]
    },
    {
     "name": "stdout",
     "output_type": "stream",
     "text": [
      "23/01/26 20:08:55 WARN Utils: Your hostname, DESKTOP-9EFE6HH resolves to a loopback address: 127.0.1.1; using 172.24.61.140 instead (on interface eth0)\n",
      "23/01/26 20:08:55 WARN Utils: Set SPARK_LOCAL_IP if you need to bind to another address\n"
     ]
    },
    {
     "name": "stderr",
     "output_type": "stream",
     "text": [
      "Setting default log level to \"WARN\".\n",
      "To adjust logging level use sc.setLogLevel(newLevel). For SparkR, use setLogLevel(newLevel).\n"
     ]
    },
    {
     "name": "stdout",
     "output_type": "stream",
     "text": [
      "23/01/26 20:08:56 WARN NativeCodeLoader: Unable to load native-hadoop library for your platform... using builtin-java classes where applicable\n",
      "23/01/26 20:08:57 WARN Utils: Service 'SparkUI' could not bind on port 4040. Attempting port 4041.\n",
      "23/01/26 20:08:57 WARN Utils: Service 'SparkUI' could not bind on port 4041. Attempting port 4042.\n",
      "Spark session is now available\n"
     ]
    }
   ],
   "source": [
    "import findspark\n",
    "import os\n",
    "from pyspark.sql import SparkSession, DataFrame\n",
    "import pyspark.sql.functions as f\n",
    "\n",
    "os.environ[\"SPARK_HOME\"] = \"/home/nphung/spark-3.3.1-bin-hadoop3\"\n",
    "os.environ[\"PYSPARK_SUBMIT_ARGS\"] = \"--master local[*] pyspark-shell\"\n",
    "\n",
    "findspark.init()\n",
    "\n",
    "spark = (\n",
    "    SparkSession.builder.master(\"local[*]\")\n",
    "    .config(\"spark.driver.memory\", \"2G\")\n",
    "    .config(\"spark.sql.shuffle.partitions\", \"4\")\n",
    "    .config(\"spark.sql.execution.arrow.pyspark.enabled\", \"true\")\n",
    "    .config(\"spark.sql.execution.arrow.pyspark.fallback.enabled\", \"true\")\n",
    "    .config(\"spark.sql.repl.eagerEval.enabled\", \"true\")\n",
    "    .getOrCreate()\n",
    ")\n",
    "\n",
    "print(\"Spark session is now available\")"
   ]
  },
  {
   "cell_type": "code",
   "execution_count": 2,
   "metadata": {},
   "outputs": [],
   "source": [
    "# def read_csv(path: str)->DataFrame:\n",
    "#     return spark.read.csv(path=path, header=True)"
   ]
  },
  {
   "cell_type": "code",
   "execution_count": 3,
   "metadata": {},
   "outputs": [
    {
     "name": "stdout",
     "output_type": "stream",
     "text": [
      "+-----------+---------------------------------------------------------------------------------------------------------------------------------------------------------------------+--------------+------------------------------------+\n",
      "|id         |scientific_title                                                                                                                                                     |date          |journal                             |\n",
      "+-----------+---------------------------------------------------------------------------------------------------------------------------------------------------------------------+--------------+------------------------------------+\n",
      "|NCT01967433|Use of Diphenhydramine as an Adjunctive Sedative nphung for Colonoscopy in Patients Chronically on Opioids                                                           |1 January 2020|Journal of emergency nursing        |\n",
      "|NCT04189588|Phase 2 Study IV QUZYTTIR™ (Cetirizine Hydrochloride Injection) vs V Diphenhydramine                                                                                 |1 January 2020|Journal of emergency nursing        |\n",
      "|NCT04237090|                                                                                                                                                                     |1 January 2020|Journal of emergency nursing        |\n",
      "|NCT04237091|Feasibility of a Randomized Controlled Clinical Trial Comparing the Use of Cetirizine to Replace Diphenhydramine in the Prevention of Reactions Related to Paclitaxel|1 January 2020|Journal of emergency nursing        |\n",
      "|NCT04153396|Preemptive 1234 With Betamethasone and Ropivacaine for Postoperative Pain in Laminoplasty or \\xc3\\xb1 Laminectomy                                                    |1 January 2020|Hôpitaux Universitaires de Genève   |\n",
      "|NCT03490942|Glucagon Infusion in T1D Patients With Recurrent Severe Hypoglycemia: Effects on Counter-Regulatory Responses                                                        |25/05/2020    |null                                |\n",
      "|null       |Glucagon Infusion in T1D Patients With Recurrent Severe Hypoglycemia: Effects on Counter-Regulatory fdsqfdqs Responses                                               |25/05/2020    |Journal of emergency nursing        |\n",
      "|NCT04188184|Tranexamic Acid nphung Epinephrine During Exploratory Tympanotomy                                                                                                    |27 April 2020 |Journal of emergency nursing\\xc3\\x28|\n",
      "|NCT04188185|Corana nphung Epinephrine During Exploratory Tympanotomy                                                                                                             |27 April 2020 |Journal of emergency nursing        |\n",
      "+-----------+---------------------------------------------------------------------------------------------------------------------------------------------------------------------+--------------+------------------------------------+\n",
      "\n"
     ]
    }
   ],
   "source": [
    "from pyspark_template.readers.csv import read_csv\n",
    "\n",
    "clinical_trials: DataFrame = read_csv(spark, \"../data/clinical_trials.csv\")\n",
    "clinical_trials.show(20, truncate=False)"
   ]
  },
  {
   "cell_type": "code",
   "execution_count": 4,
   "metadata": {},
   "outputs": [
    {
     "data": {
      "text/html": [
       "<table border='1'>\n",
       "<tr><th>atccode</th><th>drug</th></tr>\n",
       "<tr><td>A04AD</td><td>DIPHENHYDRAMINE</td></tr>\n",
       "<tr><td>S03AA</td><td>TETRACYCLINE</td></tr>\n",
       "<tr><td>V03AB</td><td>ETHANOL</td></tr>\n",
       "<tr><td>A03BA</td><td>ATROPINE</td></tr>\n",
       "<tr><td>A01AD</td><td>EPINEPHRINE</td></tr>\n",
       "<tr><td>6302001</td><td>ISOPRENALINE</td></tr>\n",
       "<tr><td>R01AD</td><td>BETAMETHASONE</td></tr>\n",
       "<tr><td>HELLO</td><td>CORONA</td></tr>\n",
       "</table>\n"
      ],
      "text/plain": [
       "+-------+---------------+\n",
       "|atccode|           drug|\n",
       "+-------+---------------+\n",
       "|  A04AD|DIPHENHYDRAMINE|\n",
       "|  S03AA|   TETRACYCLINE|\n",
       "|  V03AB|        ETHANOL|\n",
       "|  A03BA|       ATROPINE|\n",
       "|  A01AD|    EPINEPHRINE|\n",
       "|6302001|   ISOPRENALINE|\n",
       "|  R01AD|  BETAMETHASONE|\n",
       "|  HELLO|         CORONA|\n",
       "+-------+---------------+"
      ]
     },
     "execution_count": 4,
     "metadata": {},
     "output_type": "execute_result"
    }
   ],
   "source": [
    "drugs: DataFrame = read_csv(spark, \"../data/drugs.csv\")\n",
    "drugs"
   ]
  },
  {
   "cell_type": "code",
   "execution_count": 5,
   "metadata": {},
   "outputs": [
    {
     "name": "stdout",
     "output_type": "stream",
     "text": [
      "+---+--------------------+----------+--------------------+\n",
      "| id|               title|      date|             journal|\n",
      "+---+--------------------+----------+--------------------+\n",
      "|  1|A 65-year-old man...|01/01/2019|Journal of emerge...|\n",
      "|  2|An evaluation of ...|01/01/2019|Journal of emerge...|\n",
      "|  3|Diphenhydramine h...|02/01/2019|The Journal of pe...|\n",
      "|  4|Tetracycline Resi...|01/01/2020|Journal of food p...|\n",
      "|  5|Appositional Tetr...|02/01/2020|American journal ...|\n",
      "|  6|Rapid reacquisiti...|2020-01-01|  Psychopharmacology|\n",
      "|  7|The High Cost of ...|01/02/2020|The journal of al...|\n",
      "|  8|Time to epinephri...|01/03/2020|The journal of al...|\n",
      "+---+--------------------+----------+--------------------+\n",
      "\n"
     ]
    }
   ],
   "source": [
    "pubmed: DataFrame = read_csv(spark, \"../data/pubmed.csv\")\n",
    "pubmed.show(20, truncate=True)"
   ]
  },
  {
   "cell_type": "code",
   "execution_count": 6,
   "metadata": {},
   "outputs": [],
   "source": [
    "# JSON is broken\n",
    "# pubmed_json: DataFrame = spark.read.json(\"../data/pubmed.json\")\n",
    "# pubmed_json"
   ]
  },
  {
   "cell_type": "code",
   "execution_count": 7,
   "metadata": {},
   "outputs": [],
   "source": [
    "from pyspark_template.transform.common import prefix_cols\n",
    "\n",
    "pubmed_final = prefix_cols(pubmed, \"pubmed\")\n",
    "clinical_trials_final = prefix_cols(clinical_trials, \"clinical_trials\")"
   ]
  },
  {
   "cell_type": "code",
   "execution_count": 8,
   "metadata": {},
   "outputs": [
    {
     "data": {
      "text/html": [
       "<table border='1'>\n",
       "<tr><th>pubmed_id</th><th>pubmed_title</th><th>pubmed_date</th><th>pubmed_journal</th></tr>\n",
       "<tr><td>1</td><td>A 65-year-old man...</td><td>01/01/2019</td><td>Journal of emerge...</td></tr>\n",
       "<tr><td>2</td><td>An evaluation of ...</td><td>01/01/2019</td><td>Journal of emerge...</td></tr>\n",
       "<tr><td>3</td><td>Diphenhydramine h...</td><td>02/01/2019</td><td>The Journal of pe...</td></tr>\n",
       "<tr><td>4</td><td>Tetracycline Resi...</td><td>01/01/2020</td><td>Journal of food p...</td></tr>\n",
       "<tr><td>5</td><td>Appositional Tetr...</td><td>02/01/2020</td><td>American journal ...</td></tr>\n",
       "<tr><td>6</td><td>Rapid reacquisiti...</td><td>2020-01-01</td><td>Psychopharmacology</td></tr>\n",
       "<tr><td>7</td><td>The High Cost of ...</td><td>01/02/2020</td><td>The journal of al...</td></tr>\n",
       "<tr><td>8</td><td>Time to epinephri...</td><td>01/03/2020</td><td>The journal of al...</td></tr>\n",
       "</table>\n"
      ],
      "text/plain": [
       "+---------+--------------------+-----------+--------------------+\n",
       "|pubmed_id|        pubmed_title|pubmed_date|      pubmed_journal|\n",
       "+---------+--------------------+-----------+--------------------+\n",
       "|        1|A 65-year-old man...| 01/01/2019|Journal of emerge...|\n",
       "|        2|An evaluation of ...| 01/01/2019|Journal of emerge...|\n",
       "|        3|Diphenhydramine h...| 02/01/2019|The Journal of pe...|\n",
       "|        4|Tetracycline Resi...| 01/01/2020|Journal of food p...|\n",
       "|        5|Appositional Tetr...| 02/01/2020|American journal ...|\n",
       "|        6|Rapid reacquisiti...| 2020-01-01|  Psychopharmacology|\n",
       "|        7|The High Cost of ...| 01/02/2020|The journal of al...|\n",
       "|        8|Time to epinephri...| 01/03/2020|The journal of al...|\n",
       "+---------+--------------------+-----------+--------------------+"
      ]
     },
     "execution_count": 8,
     "metadata": {},
     "output_type": "execute_result"
    }
   ],
   "source": [
    "pubmed_final"
   ]
  },
  {
   "cell_type": "code",
   "execution_count": 9,
   "metadata": {},
   "outputs": [
    {
     "data": {
      "text/html": [
       "<table border='1'>\n",
       "<tr><th>clinical_trials_id</th><th>clinical_trials_scientific_title</th><th>clinical_trials_date</th><th>clinical_trials_journal</th></tr>\n",
       "<tr><td>NCT01967433</td><td>Use of Diphenhydr...</td><td>1 January 2020</td><td>Journal of emerge...</td></tr>\n",
       "<tr><td>NCT04189588</td><td>Phase 2 Study IV ...</td><td>1 January 2020</td><td>Journal of emerge...</td></tr>\n",
       "<tr><td>NCT04237090</td><td>  </td><td>1 January 2020</td><td>Journal of emerge...</td></tr>\n",
       "<tr><td>NCT04237091</td><td>Feasibility of a ...</td><td>1 January 2020</td><td>Journal of emerge...</td></tr>\n",
       "<tr><td>NCT04153396</td><td>Preemptive 1234 W...</td><td>1 January 2020</td><td>Hôpitaux Universi...</td></tr>\n",
       "<tr><td>NCT03490942</td><td>Glucagon Infusion...</td><td>25/05/2020</td><td>null</td></tr>\n",
       "<tr><td>null</td><td>Glucagon Infusion...</td><td>25/05/2020</td><td>Journal of emerge...</td></tr>\n",
       "<tr><td>NCT04188184</td><td>Tranexamic Acid n...</td><td>27 April 2020</td><td>Journal of emerge...</td></tr>\n",
       "<tr><td>NCT04188185</td><td>Corana nphung Epi...</td><td>27 April 2020</td><td>Journal of emerge...</td></tr>\n",
       "</table>\n"
      ],
      "text/plain": [
       "+------------------+--------------------------------+--------------------+-----------------------+\n",
       "|clinical_trials_id|clinical_trials_scientific_title|clinical_trials_date|clinical_trials_journal|\n",
       "+------------------+--------------------------------+--------------------+-----------------------+\n",
       "|       NCT01967433|            Use of Diphenhydr...|      1 January 2020|   Journal of emerge...|\n",
       "|       NCT04189588|            Phase 2 Study IV ...|      1 January 2020|   Journal of emerge...|\n",
       "|       NCT04237090|                                |      1 January 2020|   Journal of emerge...|\n",
       "|       NCT04237091|            Feasibility of a ...|      1 January 2020|   Journal of emerge...|\n",
       "|       NCT04153396|            Preemptive 1234 W...|      1 January 2020|   Hôpitaux Universi...|\n",
       "|       NCT03490942|            Glucagon Infusion...|          25/05/2020|                   null|\n",
       "|              null|            Glucagon Infusion...|          25/05/2020|   Journal of emerge...|\n",
       "|       NCT04188184|            Tranexamic Acid n...|       27 April 2020|   Journal of emerge...|\n",
       "|       NCT04188185|            Corana nphung Epi...|       27 April 2020|   Journal of emerge...|\n",
       "+------------------+--------------------------------+--------------------+-----------------------+"
      ]
     },
     "execution_count": 9,
     "metadata": {},
     "output_type": "execute_result"
    }
   ],
   "source": [
    "clinical_trials_final"
   ]
  },
  {
   "cell_type": "code",
   "execution_count": 10,
   "metadata": {},
   "outputs": [
    {
     "data": {
      "text/html": [
       "<table border='1'>\n",
       "<tr><th>atccode</th><th>drug</th><th>pubmeds</th><th>clinical_trials</th><th>journals</th></tr>\n",
       "<tr><td>A01AD</td><td>EPINEPHRINE</td><td>[{6, Rapid reacqu...</td><td>[{NCT04188185, Co...</td><td>[{01/01/2019, Jou...</td></tr>\n",
       "<tr><td>S03AA</td><td>TETRACYCLINE</td><td>[{6, Rapid reacqu...</td><td>[{NCT04188185, Co...</td><td>[{02/01/2020, Ame...</td></tr>\n",
       "<tr><td>R01AD</td><td>BETAMETHASONE</td><td>[{6, Rapid reacqu...</td><td>[{NCT04153396, Pr...</td><td>[{2020-01-01, Psy...</td></tr>\n",
       "<tr><td>V03AB</td><td>ETHANOL</td><td>[{6, Rapid reacqu...</td><td>[{NCT04188185, Co...</td><td>[{2020-01-01, Psy...</td></tr>\n",
       "<tr><td>A04AD</td><td>DIPHENHYDRAMINE</td><td>[{6, Rapid reacqu...</td><td>[{NCT04188185, Co...</td><td>[{01/01/2019, Jou...</td></tr>\n",
       "</table>\n"
      ],
      "text/plain": [
       "+-------+---------------+--------------------+--------------------+--------------------+\n",
       "|atccode|           drug|             pubmeds|     clinical_trials|            journals|\n",
       "+-------+---------------+--------------------+--------------------+--------------------+\n",
       "|  A01AD|    EPINEPHRINE|[{6, Rapid reacqu...|[{NCT04188185, Co...|[{01/01/2019, Jou...|\n",
       "|  S03AA|   TETRACYCLINE|[{6, Rapid reacqu...|[{NCT04188185, Co...|[{02/01/2020, Ame...|\n",
       "|  R01AD|  BETAMETHASONE|[{6, Rapid reacqu...|[{NCT04153396, Pr...|[{2020-01-01, Psy...|\n",
       "|  V03AB|        ETHANOL|[{6, Rapid reacqu...|[{NCT04188185, Co...|[{2020-01-01, Psy...|\n",
       "|  A04AD|DIPHENHYDRAMINE|[{6, Rapid reacqu...|[{NCT04188185, Co...|[{01/01/2019, Jou...|\n",
       "+-------+---------------+--------------------+--------------------+--------------------+"
      ]
     },
     "execution_count": 10,
     "metadata": {},
     "output_type": "execute_result"
    }
   ],
   "source": [
    "# Un drug est considéré comme mentionné dans un article PubMed ou un essai clinique s’il est mentionné dans le titre de la publication.\n",
    "# Un drug est considéré comme mentionné par un journal s’il est mentionné dans une publication émise par ce journal.\n",
    "\n",
    "from quinn.extensions import isTrue\n",
    "\n",
    "from pyspark_template.writers.json import write_json\n",
    "\n",
    "result: DataFrame = (\n",
    "    drugs.crossJoin(pubmed_final)\n",
    "    .crossJoin(clinical_trials_final)\n",
    "    .withColumn(\n",
    "        \"pubmed_title_title_array\", f.split(f.upper(f.col(\"pubmed_title\")), \" \")\n",
    "    )\n",
    "    .withColumn(\n",
    "        \"clinical_trials_scientific_title_array\",\n",
    "        f.split(f.upper(f.col(\"clinical_trials_scientific_title\")), \" \"),\n",
    "    )\n",
    "    .withColumn(\n",
    "        \"pubmed_title_title_array\",\n",
    "        f.transform(\n",
    "            f.col(\"pubmed_title_title_array\"), lambda x: f.regexp_replace(x, \",\", \"\")\n",
    "        ),\n",
    "    )\n",
    "    .withColumn(\n",
    "        \"title?\",\n",
    "        (\n",
    "            (\n",
    "                f.array_contains(\n",
    "                    f.col(\"pubmed_title_title_array\"), f.upper(f.col(\"drug\"))\n",
    "                )\n",
    "            )\n",
    "            | (\n",
    "                f.array_contains(\n",
    "                    f.col(\"clinical_trials_scientific_title_array\"),\n",
    "                    f.upper(f.col(\"drug\")),\n",
    "                )\n",
    "            )\n",
    "        ),\n",
    "    )\n",
    "    .drop(\"pubmed_title_title_array\", \"clinical_trials_scientific_title_array\")\n",
    "    .where(f.col(\"title?\").isTrue())\n",
    "    .groupby(\"atccode\", \"drug\")\n",
    "    .agg(\n",
    "        f.collect_set(\n",
    "            f.struct(\n",
    "                f.col(\"pubmed_id\"),\n",
    "                f.col(\"pubmed_title\"),\n",
    "                f.col(\"pubmed_date\"),\n",
    "                f.col(\"pubmed_journal\"),\n",
    "            )\n",
    "        ).alias(\"pubmeds\"),\n",
    "        f.collect_set(\n",
    "            f.struct(\n",
    "                f.col(\"clinical_trials_id\"),\n",
    "                f.col(\"clinical_trials_scientific_title\"),\n",
    "                f.col(\"clinical_trials_date\"),\n",
    "                f.col(\"clinical_trials_journal\"),\n",
    "            )\n",
    "        ).alias(\"clinical_trials\"),\n",
    "        f.collect_set(\n",
    "            f.struct(\n",
    "                f.col(\"pubmed_date\"),\n",
    "                f.col(\"pubmed_journal\"),\n",
    "                f.col(\"clinical_trials_date\"),\n",
    "                f.col(\"clinical_trials_journal\"),\n",
    "            )\n",
    "        ).alias(\"journals\"),\n",
    "    )\n",
    ")\n",
    "result\n",
    "\n",
    "# final = result\n",
    "\n",
    "# Sortie un JSON drug <->\n",
    "# write_json(final, \"final.json\", \"final_single.json\")"
   ]
  },
  {
   "cell_type": "code",
   "execution_count": 11,
   "metadata": {},
   "outputs": [
    {
     "data": {
      "text/html": [
       "<table border='1'>\n",
       "<tr><th>atccode</th><th>drug</th><th>pubmeds</th></tr>\n",
       "<tr><td>S03AA</td><td>TETRACYCLINE</td><td>[{6, Rapid reacqu...</td></tr>\n",
       "<tr><td>A01AD</td><td>EPINEPHRINE</td><td>[{8, Time to epin...</td></tr>\n",
       "<tr><td>V03AB</td><td>ETHANOL</td><td>[{6, Rapid reacqu...</td></tr>\n",
       "<tr><td>A04AD</td><td>DIPHENHYDRAMINE</td><td>[{3, Diphenhydram...</td></tr>\n",
       "<tr><td>A03BA</td><td>ATROPINE</td><td>[{null, null, nul...</td></tr>\n",
       "<tr><td>6302001</td><td>ISOPRENALINE</td><td>[{null, null, nul...</td></tr>\n",
       "<tr><td>R01AD</td><td>BETAMETHASONE</td><td>[{null, null, nul...</td></tr>\n",
       "<tr><td>HELLO</td><td>CORONA</td><td>[{null, null, nul...</td></tr>\n",
       "</table>\n"
      ],
      "text/plain": [
       "+-------+---------------+--------------------+\n",
       "|atccode|           drug|             pubmeds|\n",
       "+-------+---------------+--------------------+\n",
       "|  S03AA|   TETRACYCLINE|[{6, Rapid reacqu...|\n",
       "|  A01AD|    EPINEPHRINE|[{8, Time to epin...|\n",
       "|  V03AB|        ETHANOL|[{6, Rapid reacqu...|\n",
       "|  A04AD|DIPHENHYDRAMINE|[{3, Diphenhydram...|\n",
       "|  A03BA|       ATROPINE|[{null, null, nul...|\n",
       "|6302001|   ISOPRENALINE|[{null, null, nul...|\n",
       "|  R01AD|  BETAMETHASONE|[{null, null, nul...|\n",
       "|  HELLO|         CORONA|[{null, null, nul...|\n",
       "+-------+---------------+--------------------+"
      ]
     },
     "execution_count": 11,
     "metadata": {},
     "output_type": "execute_result"
    }
   ],
   "source": [
    "from pyspark_template.transform.common import prepared_title_array\n",
    "\n",
    "prepared_pubmed_final: DataFrame = prepared_title_array(pubmed_final, \"pubmed_title\")\n",
    "\n",
    "drugs_pubmed: DataFrame = (\n",
    "    drugs.join(\n",
    "        prepared_pubmed_final,\n",
    "        f.array_contains(f.col(\"pubmed_title_array\"), f.upper(f.col(\"drug\"))),\n",
    "        \"outer\",\n",
    "    )\n",
    "    .drop(\"pubmed_title_array\")\n",
    "    .groupby(\"atccode\", \"drug\")\n",
    "    .agg(\n",
    "        f.collect_set(\n",
    "            f.struct(\n",
    "                f.col(\"pubmed_id\"),\n",
    "                f.col(\"pubmed_title\"),\n",
    "                f.col(\"pubmed_date\"),\n",
    "                f.col(\"pubmed_journal\"),\n",
    "            )\n",
    "        ).alias(\"pubmeds\")\n",
    "    )\n",
    ")\n",
    "\n",
    "drugs_pubmed\n",
    "\n",
    "# write_json(drugs_pubmed, \"drugs_pubmed.json\", \"drugs_pubmed_single.json\")"
   ]
  },
  {
   "cell_type": "code",
   "execution_count": 12,
   "metadata": {},
   "outputs": [
    {
     "data": {
      "text/html": [
       "<table border='1'>\n",
       "<tr><th>atccode</th><th>drug</th><th>pubmeds</th><th>clinical_trials</th></tr>\n",
       "<tr><td>S03AA</td><td>TETRACYCLINE</td><td>[{6, Rapid reacqu...</td><td>[{null, null, nul...</td></tr>\n",
       "<tr><td>A01AD</td><td>EPINEPHRINE</td><td>[{8, Time to epin...</td><td>[{NCT04188185, Co...</td></tr>\n",
       "<tr><td>V03AB</td><td>ETHANOL</td><td>[{6, Rapid reacqu...</td><td>[{null, null, nul...</td></tr>\n",
       "<tr><td>A04AD</td><td>DIPHENHYDRAMINE</td><td>[{3, Diphenhydram...</td><td>[{NCT01967433, Us...</td></tr>\n",
       "<tr><td>A03BA</td><td>ATROPINE</td><td>[{null, null, nul...</td><td>[{null, null, nul...</td></tr>\n",
       "<tr><td>6302001</td><td>ISOPRENALINE</td><td>[{null, null, nul...</td><td>[{null, null, nul...</td></tr>\n",
       "<tr><td>R01AD</td><td>BETAMETHASONE</td><td>[{null, null, nul...</td><td>[{NCT04153396, Pr...</td></tr>\n",
       "<tr><td>HELLO</td><td>CORONA</td><td>[{null, null, nul...</td><td>[{null, null, nul...</td></tr>\n",
       "</table>\n"
      ],
      "text/plain": [
       "+-------+---------------+--------------------+--------------------+\n",
       "|atccode|           drug|             pubmeds|     clinical_trials|\n",
       "+-------+---------------+--------------------+--------------------+\n",
       "|  S03AA|   TETRACYCLINE|[{6, Rapid reacqu...|[{null, null, nul...|\n",
       "|  A01AD|    EPINEPHRINE|[{8, Time to epin...|[{NCT04188185, Co...|\n",
       "|  V03AB|        ETHANOL|[{6, Rapid reacqu...|[{null, null, nul...|\n",
       "|  A04AD|DIPHENHYDRAMINE|[{3, Diphenhydram...|[{NCT01967433, Us...|\n",
       "|  A03BA|       ATROPINE|[{null, null, nul...|[{null, null, nul...|\n",
       "|6302001|   ISOPRENALINE|[{null, null, nul...|[{null, null, nul...|\n",
       "|  R01AD|  BETAMETHASONE|[{null, null, nul...|[{NCT04153396, Pr...|\n",
       "|  HELLO|         CORONA|[{null, null, nul...|[{null, null, nul...|\n",
       "+-------+---------------+--------------------+--------------------+"
      ]
     },
     "execution_count": 12,
     "metadata": {},
     "output_type": "execute_result"
    }
   ],
   "source": [
    "prepared_clinical_trials_final: DataFrame = prepared_title_array(\n",
    "    clinical_trials_final, \"clinical_trials_scientific_title\"\n",
    ")\n",
    "\n",
    "drugs_pubmed_clinical_trials: DataFrame = (\n",
    "    drugs_pubmed.join(\n",
    "        prepared_clinical_trials_final,\n",
    "        f.array_contains(\n",
    "            f.col(\"clinical_trials_scientific_title_array\"), f.upper(f.col(\"drug\"))\n",
    "        ),\n",
    "        \"left\",\n",
    "    )\n",
    "    .groupby(\"atccode\", \"drug\", \"pubmeds\")\n",
    "    .agg(\n",
    "        f.collect_set(\n",
    "            f.struct(\n",
    "                f.col(\"clinical_trials_id\"),\n",
    "                f.col(\"clinical_trials_scientific_title\"),\n",
    "                f.col(\"clinical_trials_date\"),\n",
    "                f.col(\"clinical_trials_journal\"),\n",
    "            )\n",
    "        ).alias(\"clinical_trials\")\n",
    "    )\n",
    ")\n",
    "\n",
    "drugs_pubmed_clinical_trials\n",
    "\n",
    "# write_json(drugs_pubmed_clinical_trials, \"drugs_pubmed_clinical_trials.json\", \"drugs_pubmed_clinical_trials_single.json\")"
   ]
  },
  {
   "cell_type": "code",
   "execution_count": 13,
   "metadata": {},
   "outputs": [],
   "source": [
    "# Journals with one final agg\n",
    "journals: DataFrame = (\n",
    "    drugs.join(\n",
    "        prepared_pubmed_final,\n",
    "        f.array_contains(f.col(\"pubmed_title_array\"), f.upper(f.col(\"drug\"))),\n",
    "        \"outer\",\n",
    "    )\n",
    "    .join(\n",
    "        prepared_clinical_trials_final,\n",
    "        f.array_contains(\n",
    "            f.col(\"clinical_trials_scientific_title_array\"), f.upper(f.col(\"drug\"))\n",
    "        ),\n",
    "        \"left\",\n",
    "    )\n",
    "    .groupby(\"atccode\", \"drug\")\n",
    "    .agg(\n",
    "        f.collect_set(\n",
    "            f.struct(\n",
    "                f.col(\"pubmed_id\"),\n",
    "                f.col(\"pubmed_title\"),\n",
    "                f.col(\"pubmed_date\"),\n",
    "                f.col(\"pubmed_journal\"),\n",
    "            )\n",
    "        ).alias(\"pubmeds\"),\n",
    "        f.collect_set(\n",
    "            f.struct(\n",
    "                f.col(\"clinical_trials_id\"),\n",
    "                f.col(\"clinical_trials_scientific_title\"),\n",
    "                f.col(\"clinical_trials_date\"),\n",
    "                f.col(\"clinical_trials_journal\"),\n",
    "            )\n",
    "        ).alias(\"clinical_trials\"),\n",
    "        f.collect_set(\n",
    "            f.struct(\n",
    "                f.col(\"pubmed_date\").alias(\"date\"),\n",
    "                f.col(\"pubmed_journal\").alias(\"journal\"),\n",
    "            )\n",
    "        ).alias(\"journals_pubmed\"),\n",
    "        f.collect_set(\n",
    "            f.struct(\n",
    "                f.col(\"clinical_trials_date\").alias(\"date\"),\n",
    "                f.col(\"clinical_trials_journal\").alias(\"journal\"),\n",
    "            )\n",
    "        ).alias(\"journals_clinical_trials\"),\n",
    "    )\n",
    "    .withColumn(\n",
    "        \"journals\", f.array_union(\"journals_pubmed\", \"journals_clinical_trials\")\n",
    "    )\n",
    "    .drop(\"journals_pubmed\", \"journals_clinical_trials\")\n",
    ")\n",
    "\n",
    "journals\n",
    "\n",
    "write_json(journals, \"journals.json\", \"journals_single.json\")"
   ]
  }
 ],
 "metadata": {
  "kernelspec": {
   "display_name": "pyspark-template-B7t9Khjl-py3.10",
   "language": "python",
   "name": "python3"
  },
  "language_info": {
   "codemirror_mode": {
    "name": "ipython",
    "version": 3
   },
   "file_extension": ".py",
   "mimetype": "text/x-python",
   "name": "python",
   "nbconvert_exporter": "python",
   "pygments_lexer": "ipython3",
   "version": "3.10.9"
  },
  "orig_nbformat": 4,
  "vscode": {
   "interpreter": {
    "hash": "a7f1ec1cc37481a0a45097fa84f833a22ef4b8d1bc77905cc4caa954c435a86c"
   }
  }
 },
 "nbformat": 4,
 "nbformat_minor": 2
}
