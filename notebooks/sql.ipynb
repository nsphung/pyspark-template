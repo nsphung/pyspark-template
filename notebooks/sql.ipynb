{
 "cells": [
  {
   "cell_type": "code",
   "execution_count": 1,
   "metadata": {},
   "outputs": [
    {
     "name": "stderr",
     "output_type": "stream",
     "text": [
      "your 131072x1 screen size is bogus. expect trouble\n"
     ]
    },
    {
     "name": "stdout",
     "output_type": "stream",
     "text": [
      "23/01/26 20:06:51 WARN Utils: Your hostname, DESKTOP-9EFE6HH resolves to a loopback address: 127.0.1.1; using 172.24.61.140 instead (on interface eth0)\n",
      "23/01/26 20:06:51 WARN Utils: Set SPARK_LOCAL_IP if you need to bind to another address\n"
     ]
    },
    {
     "name": "stderr",
     "output_type": "stream",
     "text": [
      "Setting default log level to \"WARN\".\n",
      "To adjust logging level use sc.setLogLevel(newLevel). For SparkR, use setLogLevel(newLevel).\n"
     ]
    },
    {
     "name": "stdout",
     "output_type": "stream",
     "text": [
      "23/01/26 20:06:53 WARN NativeCodeLoader: Unable to load native-hadoop library for your platform... using builtin-java classes where applicable\n",
      "23/01/26 20:06:54 WARN Utils: Service 'SparkUI' could not bind on port 4040. Attempting port 4041.\n",
      "Spark session is now available\n"
     ]
    }
   ],
   "source": [
    "import findspark\n",
    "import os\n",
    "from pyspark.sql import SparkSession, DataFrame\n",
    "\n",
    "os.environ[\"SPARK_HOME\"] = \"/home/nphung/spark-3.3.1-bin-hadoop3\"\n",
    "os.environ[\"PYSPARK_SUBMIT_ARGS\"] = \"--master local[*] pyspark-shell\"\n",
    "os.environ[\"PYSPARK_PYTHON\"] = \"python3.10\"\n",
    "os.environ[\"PYSPARK_DRIVER_PYTHON\"] = \"python3.10\"\n",
    "\n",
    "findspark.init()\n",
    "\n",
    "spark = (\n",
    "    SparkSession.builder.master(\"local[*]\")\n",
    "    .config(\"spark.driver.memory\", \"2G\")\n",
    "    .config(\"spark.sql.shuffle.partitions\", \"4\")\n",
    "    .config(\"spark.sql.execution.arrow.pyspark.enabled\", \"true\")\n",
    "    .config(\"spark.sql.execution.arrow.pyspark.fallback.enabled\", \"true\")\n",
    "    .config(\"spark.sql.repl.eagerEval.enabled\", \"true\")\n",
    "    .getOrCreate()\n",
    ")\n",
    "\n",
    "print(\"Spark session is now available\")"
   ]
  },
  {
   "cell_type": "code",
   "execution_count": 2,
   "metadata": {},
   "outputs": [],
   "source": [
    "from pyspark.sql import DataFrame, SparkSession\n",
    "from pyspark.sql.types import (\n",
    "    ArrayType,\n",
    "    LongType,\n",
    "    StringType,\n",
    "    StructField,\n",
    "    StructType,\n",
    "    StringType,\n",
    "    DoubleType,\n",
    "    IntegerType,\n",
    ")\n",
    "\n",
    "transaction: DataFrame = spark.createDataFrame(\n",
    "    [\n",
    "        (\"01/01/20\", 1234, 999, 490756, 50.0, 1),\n",
    "        (\"01/01/20\", 1234, 999, 389728, 3.56, 4),\n",
    "        (\"01/01/20\", 3456, 845, 490756, 50.0, 2),\n",
    "        (\"01/01/20\", 3456, 845, 549380, 300.0, 1),\n",
    "        (\"01/01/20\", 3456, 845, 293718, 10.0, 6),\n",
    "    ],\n",
    "    StructType(\n",
    "        [\n",
    "            StructField(\"date\", StringType(), False),\n",
    "            StructField(\"order_id\", LongType(), False),\n",
    "            StructField(\"client_id\", LongType(), False),\n",
    "            StructField(\"prod_id\", LongType(), False),\n",
    "            StructField(\"prod_price\", DoubleType(), False),\n",
    "            StructField(\"prod_qty\", IntegerType(), False),\n",
    "        ]\n",
    "    ),\n",
    ")\n",
    "\n",
    "transaction.createOrReplaceTempView(\"transaction\")"
   ]
  },
  {
   "cell_type": "code",
   "execution_count": 3,
   "metadata": {},
   "outputs": [],
   "source": [
    "product_nomenclature: DataFrame = spark.createDataFrame(\n",
    "    [\n",
    "        (\n",
    "            490756,\n",
    "            \"MEUBLE\",\n",
    "            \"Chaise\",\n",
    "        ),\n",
    "        (\n",
    "            389728,\n",
    "            \"DECO\",\n",
    "            \"Boule de Noël\",\n",
    "        ),\n",
    "        (\n",
    "            549380,\n",
    "            \"MEUBLE\",\n",
    "            \"Canapé\",\n",
    "        ),\n",
    "        (\n",
    "            293718,\n",
    "            \"MEUBLE\",\n",
    "            \"Mug\",\n",
    "        ),\n",
    "    ],\n",
    "    StructType(\n",
    "        [\n",
    "            StructField(\"product_id\", LongType(), False),\n",
    "            StructField(\"product_type\", StringType(), False),\n",
    "            StructField(\"product_name\", StringType(), False),\n",
    "        ]\n",
    "    ),\n",
    ")\n",
    "\n",
    "product_nomenclature.createOrReplaceTempView(\"product_nomenclature\")"
   ]
  },
  {
   "cell_type": "code",
   "execution_count": 4,
   "metadata": {},
   "outputs": [
    {
     "name": "stderr",
     "output_type": "stream",
     "text": [
      "                                                                                \r"
     ]
    },
    {
     "data": {
      "text/html": [
       "<table border='1'>\n",
       "<tr><th>product_id</th><th>product_type</th><th>product_name</th><th>date</th><th>order_id</th><th>client_id</th><th>prod_id</th><th>prod_price</th><th>prod_qty</th></tr>\n",
       "<tr><td>490756</td><td>MEUBLE</td><td>Chaise</td><td>01/01/20</td><td>1234</td><td>999</td><td>490756</td><td>50.0</td><td>1</td></tr>\n",
       "<tr><td>389728</td><td>DECO</td><td>Boule de Noël</td><td>01/01/20</td><td>1234</td><td>999</td><td>389728</td><td>3.56</td><td>4</td></tr>\n",
       "<tr><td>490756</td><td>MEUBLE</td><td>Chaise</td><td>01/01/20</td><td>3456</td><td>845</td><td>490756</td><td>50.0</td><td>2</td></tr>\n",
       "<tr><td>549380</td><td>MEUBLE</td><td>Canapé</td><td>01/01/20</td><td>3456</td><td>845</td><td>549380</td><td>300.0</td><td>1</td></tr>\n",
       "<tr><td>293718</td><td>MEUBLE</td><td>Mug</td><td>01/01/20</td><td>3456</td><td>845</td><td>293718</td><td>10.0</td><td>6</td></tr>\n",
       "</table>\n"
      ],
      "text/plain": [
       "+----------+------------+-------------+--------+--------+---------+-------+----------+--------+\n",
       "|product_id|product_type| product_name|    date|order_id|client_id|prod_id|prod_price|prod_qty|\n",
       "+----------+------------+-------------+--------+--------+---------+-------+----------+--------+\n",
       "|    490756|      MEUBLE|       Chaise|01/01/20|    1234|      999| 490756|      50.0|       1|\n",
       "|    389728|        DECO|Boule de Noël|01/01/20|    1234|      999| 389728|      3.56|       4|\n",
       "|    490756|      MEUBLE|       Chaise|01/01/20|    3456|      845| 490756|      50.0|       2|\n",
       "|    549380|      MEUBLE|       Canapé|01/01/20|    3456|      845| 549380|     300.0|       1|\n",
       "|    293718|      MEUBLE|          Mug|01/01/20|    3456|      845| 293718|      10.0|       6|\n",
       "+----------+------------+-------------+--------+--------+---------+-------+----------+--------+"
      ]
     },
     "execution_count": 4,
     "metadata": {},
     "output_type": "execute_result"
    }
   ],
   "source": [
    "spark.sql(\n",
    "    \"\"\"SELECT * FROM product_nomenclature \n",
    "    INNER JOIN transaction where transaction.prod_id=product_nomenclature.product_id\n",
    "\"\"\"\n",
    ")"
   ]
  },
  {
   "cell_type": "code",
   "execution_count": 5,
   "metadata": {},
   "outputs": [
    {
     "data": {
      "text/html": [
       "<table border='1'>\n",
       "<tr><th>date</th><th>total</th></tr>\n",
       "<tr><td>01/01/20</td><td>524.24</td></tr>\n",
       "</table>\n"
      ],
      "text/plain": [
       "+--------+------+\n",
       "|    date| total|\n",
       "+--------+------+\n",
       "|01/01/20|524.24|\n",
       "+--------+------+"
      ]
     },
     "execution_count": 5,
     "metadata": {},
     "output_type": "execute_result"
    }
   ],
   "source": [
    "# Get the total prices of product per day from 01/01/2020 to 31/12/2020, sort by day\n",
    "\n",
    "spark.sql(\n",
    "    \"\"\"SELECT date, sum(prod_price*prod_qty) as total FROM product_nomenclature \n",
    "    INNER JOIN transaction ON transaction.prod_id=product_nomenclature.product_id\n",
    "    WHERE date='01/01/20'\n",
    "    GROUP BY date\n",
    "    ORDER BY date\n",
    "\"\"\"\n",
    ")"
   ]
  },
  {
   "cell_type": "code",
   "execution_count": 6,
   "metadata": {},
   "outputs": [
    {
     "data": {
      "text/html": [
       "<table border='1'>\n",
       "<tr><th>client_id</th><th>product_type</th><th>ventes</th></tr>\n",
       "<tr><td>999</td><td>MEUBLE</td><td>50.0</td></tr>\n",
       "<tr><td>845</td><td>MEUBLE</td><td>460.0</td></tr>\n",
       "<tr><td>999</td><td>DECO</td><td>14.24</td></tr>\n",
       "</table>\n"
      ],
      "text/plain": [
       "+---------+------------+------+\n",
       "|client_id|product_type|ventes|\n",
       "+---------+------------+------+\n",
       "|      999|      MEUBLE|  50.0|\n",
       "|      845|      MEUBLE| 460.0|\n",
       "|      999|        DECO| 14.24|\n",
       "+---------+------------+------+"
      ]
     },
     "execution_count": 6,
     "metadata": {},
     "output_type": "execute_result"
    }
   ],
   "source": [
    "# Get product_type total by client_id \n",
    "\n",
    "spark.sql(\n",
    "    \"\"\"SELECT client_id,product_type, SUM(prod_price*prod_qty) as ventes  FROM product_nomenclature \n",
    "    INNER JOIN transaction where transaction.prod_id=product_nomenclature.product_id\n",
    "    GROUP BY client_id, product_type\n",
    "\"\"\"\n",
    ")"
   ]
  },
  {
   "cell_type": "code",
   "execution_count": 7,
   "metadata": {},
   "outputs": [
    {
     "data": {
      "text/html": [
       "<table border='1'>\n",
       "<tr><th>client_id</th><th>ventes_meuble</th><th>ventes_deco</th></tr>\n",
       "<tr><td>999</td><td>50.0</td><td>14.24</td></tr>\n",
       "<tr><td>845</td><td>460.0</td><td>null</td></tr>\n",
       "</table>\n"
      ],
      "text/plain": [
       "+---------+-------------+-----------+\n",
       "|client_id|ventes_meuble|ventes_deco|\n",
       "+---------+-------------+-----------+\n",
       "|      999|         50.0|      14.24|\n",
       "|      845|        460.0|       null|\n",
       "+---------+-------------+-----------+"
      ]
     },
     "execution_count": 7,
     "metadata": {},
     "output_type": "execute_result"
    }
   ],
   "source": [
    "# Total per customer regroup by product_type for a give transaction period between two dates\n",
    "\n",
    "spark.sql(\n",
    "    \"\"\"\n",
    "    SELECT client_id, \n",
    "            sum(case when product_type=\"MEUBLE\" then ventes end) as ventes_meuble,\n",
    "            sum(case when product_type=\"DECO\" then ventes end) as ventes_deco\n",
    "      FROM (\n",
    "        SELECT client_id,product_type, SUM(prod_price*prod_qty) as ventes  FROM product_nomenclature \n",
    "        INNER JOIN transaction ON transaction.prod_id=product_nomenclature.product_id\n",
    "        WHERE date='01/01/20'\n",
    "        GROUP BY client_id, product_type\n",
    "    ) GROUP BY client_id\n",
    "\"\"\"\n",
    ")"
   ]
  }
 ],
 "metadata": {
  "kernelspec": {
   "display_name": "pyspark-template-B7t9Khjl-py3.10",
   "language": "python",
   "name": "python3"
  },
  "language_info": {
   "codemirror_mode": {
    "name": "ipython",
    "version": 3
   },
   "file_extension": ".py",
   "mimetype": "text/x-python",
   "name": "python",
   "nbconvert_exporter": "python",
   "pygments_lexer": "ipython3",
   "version": "3.10.9"
  },
  "orig_nbformat": 4,
  "vscode": {
   "interpreter": {
    "hash": "a7f1ec1cc37481a0a45097fa84f833a22ef4b8d1bc77905cc4caa954c435a86c"
   }
  }
 },
 "nbformat": 4,
 "nbformat_minor": 2
}
